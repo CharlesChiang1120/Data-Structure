{
 "cells": [
  {
   "cell_type": "code",
   "execution_count": 256,
   "id": "binary-graphic",
   "metadata": {},
   "outputs": [],
   "source": [
    "from random import randint\n",
    "from time import time"
   ]
  },
  {
   "cell_type": "code",
   "execution_count": 269,
   "id": "emerging-punishment",
   "metadata": {},
   "outputs": [],
   "source": [
    "def timer_func(func):\n",
    "    def wrap_func(*args, **kwargs):\n",
    "        t1 = time()\n",
    "        result = func(*args, **kwargs)\n",
    "        t2 = time()\n",
    "        print(f'Function {func.__name__!r} executed in {(t2-t1):.8f}s')\n",
    "        return result\n",
    "    return wrap_func"
   ]
  },
  {
   "cell_type": "markdown",
   "id": "nervous-criminal",
   "metadata": {},
   "source": [
    "## Insertion Sort"
   ]
  },
  {
   "cell_type": "code",
   "execution_count": 300,
   "id": "posted-visitor",
   "metadata": {},
   "outputs": [],
   "source": [
    "@timer_func\n",
    "def insertionSort(inputData:list, whetherReturn:bool):\n",
    "    for i in range(1, len(inputData)):\n",
    "        key = inputData[i]\n",
    "        j = i-1\n",
    "        while j >= 0 and key < inputData[j]:\n",
    "            inputData[j + 1] = inputData[j]\n",
    "            j -= 1\n",
    "        inputData[j + 1] = key\n",
    "        \n",
    "    if whetherReturn == True:\n",
    "        return inputData\n",
    "    else:\n",
    "        return"
   ]
  },
  {
   "cell_type": "code",
   "execution_count": 301,
   "id": "general-diversity",
   "metadata": {},
   "outputs": [],
   "source": [
    "inputData = [randint(1, 9) for p in range(0, 20)]"
   ]
  },
  {
   "cell_type": "code",
   "execution_count": 302,
   "id": "composed-merchant",
   "metadata": {},
   "outputs": [
    {
     "name": "stdout",
     "output_type": "stream",
     "text": [
      "Function 'insertionSort' executed in 0.00005531s\n"
     ]
    },
    {
     "data": {
      "text/plain": [
       "[1, 1, 1, 2, 2, 2, 3, 3, 4, 4, 5, 5, 6, 6, 7, 7, 7, 8, 8, 9]"
      ]
     },
     "execution_count": 302,
     "metadata": {},
     "output_type": "execute_result"
    }
   ],
   "source": [
    "insertionSort(inputData, True)"
   ]
  },
  {
   "cell_type": "code",
   "execution_count": 332,
   "id": "alleged-selection",
   "metadata": {},
   "outputs": [],
   "source": [
    "inputData = [randint(1, 9) for p in range(0, 5000)]"
   ]
  },
  {
   "cell_type": "code",
   "execution_count": 333,
   "id": "hazardous-pocket",
   "metadata": {},
   "outputs": [
    {
     "name": "stdout",
     "output_type": "stream",
     "text": [
      "Function 'insertionSort' executed in 1.24124622s\n"
     ]
    }
   ],
   "source": [
    "insertionSort(inputData, False)"
   ]
  },
  {
   "cell_type": "markdown",
   "id": "suspended-teaching",
   "metadata": {},
   "source": [
    "## Counting Sort"
   ]
  },
  {
   "cell_type": "code",
   "execution_count": 324,
   "id": "civilian-antenna",
   "metadata": {},
   "outputs": [],
   "source": [
    "@timer_func\n",
    "def countingSort(inputData:list, whetherReturn:bool):\n",
    "    countList = [0] * len(inputData)\n",
    "    startList = [0] * len(inputData)\n",
    "    startList[0] = 1\n",
    "    outputList = [0] * len(inputData)\n",
    "    \n",
    "    for i in range(len(inputData)):\n",
    "        countList[inputData[i]-1] = countList[inputData[i]-1] + 1\n",
    "        \n",
    "    for j in range(1, 9):\n",
    "        startList[j] = startList[j-1] + countList[j-1]\n",
    "    \n",
    "    for k in range(len(inputData)):\n",
    "        outputList[startList[inputData[k]-1]-1] = inputData[k]\n",
    "        startList[inputData[k]-1] = startList[inputData[k]-1]+1\n",
    "        \n",
    "    if whetherReturn == True:\n",
    "        return outputList\n",
    "    else:\n",
    "        return"
   ]
  },
  {
   "cell_type": "code",
   "execution_count": 325,
   "id": "detailed-syracuse",
   "metadata": {},
   "outputs": [],
   "source": [
    "inputData = [randint(1, 9) for p in range(0, 20)]"
   ]
  },
  {
   "cell_type": "code",
   "execution_count": 326,
   "id": "incomplete-portugal",
   "metadata": {},
   "outputs": [
    {
     "name": "stdout",
     "output_type": "stream",
     "text": [
      "Function 'countingSort' executed in 0.00003672s\n"
     ]
    },
    {
     "data": {
      "text/plain": [
       "[1, 2, 2, 2, 3, 4, 4, 4, 4, 5, 6, 7, 7, 8, 8, 8, 9, 9, 9, 9]"
      ]
     },
     "execution_count": 326,
     "metadata": {},
     "output_type": "execute_result"
    }
   ],
   "source": [
    "countingSort(inputData, True) "
   ]
  },
  {
   "cell_type": "code",
   "execution_count": 336,
   "id": "altered-nicholas",
   "metadata": {
    "scrolled": true
   },
   "outputs": [],
   "source": [
    "inputData = [randint(1, 9) for p in range(0, 25000000)]"
   ]
  },
  {
   "cell_type": "code",
   "execution_count": 337,
   "id": "comparable-rider",
   "metadata": {
    "scrolled": false
   },
   "outputs": [
    {
     "name": "stdout",
     "output_type": "stream",
     "text": [
      "Function 'countingSort' executed in 18.63801885s\n"
     ]
    }
   ],
   "source": [
    "countingSort(inputData, False)"
   ]
  }
 ],
 "metadata": {
  "kernelspec": {
   "display_name": "Python 3",
   "language": "python",
   "name": "python3"
  },
  "language_info": {
   "codemirror_mode": {
    "name": "ipython",
    "version": 3
   },
   "file_extension": ".py",
   "mimetype": "text/x-python",
   "name": "python",
   "nbconvert_exporter": "python",
   "pygments_lexer": "ipython3",
   "version": "3.8.8"
  }
 },
 "nbformat": 4,
 "nbformat_minor": 5
}
