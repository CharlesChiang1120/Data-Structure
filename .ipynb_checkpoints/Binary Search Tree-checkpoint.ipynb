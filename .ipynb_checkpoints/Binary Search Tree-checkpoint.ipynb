{
 "cells": [
  {
   "cell_type": "markdown",
   "id": "preliminary-review",
   "metadata": {},
   "source": [
    "## Binary Search Tree"
   ]
  },
  {
   "cell_type": "code",
   "execution_count": 44,
   "id": "bizarre-orange",
   "metadata": {},
   "outputs": [],
   "source": [
    "class BSTNode:\n",
    "    def __init__(self, val=None):\n",
    "        self.val = val\n",
    "        self.left = None\n",
    "        self.right = None\n",
    "    \n",
    "    def insert(self, val):\n",
    "        if not self.val:\n",
    "            self.val = val\n",
    "            return\n",
    "        \n",
    "        elif self.val == val:\n",
    "            return\n",
    "        \n",
    "        elif val < self.val:\n",
    "            if self.left:\n",
    "                self.left.insert(val)\n",
    "                return\n",
    "            else:\n",
    "                self.left = BSTNode(val)\n",
    "                return     \n",
    "        else:\n",
    "            if self.right:\n",
    "                self.right.insert(val)\n",
    "                return\n",
    "            else:\n",
    "                self.right = BSTNode(val)\n",
    "                return\n",
    "            \n",
    "    def inorder(self, vals):\n",
    "        if self.left is not None:\n",
    "            self.left.inorder(vals)\n",
    "        if self.val is not None:\n",
    "            vals.append(self.val)\n",
    "        if self.right is not None:\n",
    "            self.right.inorder(vals)\n",
    "        return vals\n",
    "    \n",
    "    def preorder(self, vals):\n",
    "        if self.val is not None:\n",
    "            vals.append(self.val)\n",
    "        if self.left is not None:\n",
    "            self.left.preorder(vals)\n",
    "        if self.right is not None:\n",
    "            self.right.preorder(vals)\n",
    "        return vals\n",
    "    \n",
    "    def postorder(self, vals):\n",
    "        if self.left is not None:\n",
    "            self.left.postorder(vals)\n",
    "        if self.right is not None:\n",
    "            self.right.postorder(vals)\n",
    "        if self.val is not None:\n",
    "            vals.append(self.val)\n",
    "        return vals\n",
    "    \n",
    "    def get_min(self):\n",
    "        current = self\n",
    "        while current.left is not None:\n",
    "            current = current.left\n",
    "        return current.val\n",
    "\n",
    "    def get_max(self):\n",
    "        current = self\n",
    "        while current.right is not None:\n",
    "            current = current.right\n",
    "        return current.val"
   ]
  },
  {
   "cell_type": "code",
   "execution_count": 45,
   "id": "capable-brunei",
   "metadata": {},
   "outputs": [],
   "source": [
    "bst = BSTNode()"
   ]
  },
  {
   "cell_type": "code",
   "execution_count": 46,
   "id": "southern-vocabulary",
   "metadata": {},
   "outputs": [],
   "source": [
    "nums = [12, 6, 18, 19, 21, 11, 3, 5, 4, 24]\n",
    "bst = BSTNode()\n",
    "for num in nums:\n",
    "    bst.insert(num)"
   ]
  },
  {
   "cell_type": "code",
   "execution_count": 47,
   "id": "later-burden",
   "metadata": {
    "scrolled": true
   },
   "outputs": [
    {
     "data": {
      "text/plain": [
       "[3, 4, 5, 6, 11, 12, 18, 19, 21, 24]"
      ]
     },
     "execution_count": 47,
     "metadata": {},
     "output_type": "execute_result"
    }
   ],
   "source": [
    "bst.inorder([])"
   ]
  },
  {
   "cell_type": "code",
   "execution_count": 48,
   "id": "sapphire-tractor",
   "metadata": {},
   "outputs": [
    {
     "data": {
      "text/plain": [
       "[4, 5, 3, 11, 6, 24, 21, 19, 18, 12]"
      ]
     },
     "execution_count": 48,
     "metadata": {},
     "output_type": "execute_result"
    }
   ],
   "source": [
    "bst.postorder([])"
   ]
  },
  {
   "cell_type": "code",
   "execution_count": 49,
   "id": "frank-gibson",
   "metadata": {},
   "outputs": [
    {
     "data": {
      "text/plain": [
       "[12, 6, 3, 5, 4, 11, 18, 19, 21, 24]"
      ]
     },
     "execution_count": 49,
     "metadata": {},
     "output_type": "execute_result"
    }
   ],
   "source": [
    "bst.preorder([])"
   ]
  },
  {
   "cell_type": "code",
   "execution_count": 50,
   "id": "favorite-advancement",
   "metadata": {},
   "outputs": [
    {
     "data": {
      "text/plain": [
       "3"
      ]
     },
     "execution_count": 50,
     "metadata": {},
     "output_type": "execute_result"
    }
   ],
   "source": [
    "bst.get_min()"
   ]
  },
  {
   "cell_type": "code",
   "execution_count": 51,
   "id": "skilled-nightmare",
   "metadata": {},
   "outputs": [
    {
     "data": {
      "text/plain": [
       "24"
      ]
     },
     "execution_count": 51,
     "metadata": {},
     "output_type": "execute_result"
    }
   ],
   "source": [
    "bst.get_max()"
   ]
  }
 ],
 "metadata": {
  "kernelspec": {
   "display_name": "Python 3",
   "language": "python",
   "name": "python3"
  },
  "language_info": {
   "codemirror_mode": {
    "name": "ipython",
    "version": 3
   },
   "file_extension": ".py",
   "mimetype": "text/x-python",
   "name": "python",
   "nbconvert_exporter": "python",
   "pygments_lexer": "ipython3",
   "version": "3.8.8"
  }
 },
 "nbformat": 4,
 "nbformat_minor": 5
}
