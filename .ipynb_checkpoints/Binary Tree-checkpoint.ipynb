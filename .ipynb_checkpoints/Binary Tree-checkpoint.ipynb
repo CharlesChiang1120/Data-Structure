{
 "cells": [
  {
   "cell_type": "markdown",
   "id": "wireless-computer",
   "metadata": {},
   "source": [
    "## Binary Tree"
   ]
  },
  {
   "cell_type": "code",
   "execution_count": 13,
   "id": "extra-alignment",
   "metadata": {},
   "outputs": [],
   "source": [
    "class Node:\n",
    "    def __init__(self, data):\n",
    "        self.data = data\n",
    "        self.left = None\n",
    "        self.right = None"
   ]
  },
  {
   "cell_type": "markdown",
   "id": "resident-brook",
   "metadata": {},
   "source": [
    "## Preorder Traversal"
   ]
  },
  {
   "cell_type": "code",
   "execution_count": 127,
   "id": "gross-imagination",
   "metadata": {},
   "outputs": [],
   "source": [
    "def preorderRecursive(root):\n",
    "    if root is None:\n",
    "        return\n",
    "    else:\n",
    "        print(root.data, end=' ')\n",
    "        preorderRecursive(root.left)\n",
    "        preorderRecursive(root.right)"
   ]
  },
  {
   "cell_type": "code",
   "execution_count": 128,
   "id": "sorted-identifier",
   "metadata": {},
   "outputs": [],
   "source": [
    "def preorder(root):\n",
    "    if root is None:\n",
    "        return\n",
    "    \n",
    "    nodeStack = []\n",
    "    nodeStack.append(root)\n",
    "    \n",
    "    while(len(nodeStack) > 0):\n",
    "        node = nodeStack.pop()\n",
    "        print (node.data, end=\" \")\n",
    "        if node.right is not None:\n",
    "            nodeStack.append(node.right)\n",
    "        if node.left is not None:\n",
    "            nodeStack.append(node.left)"
   ]
  },
  {
   "cell_type": "code",
   "execution_count": 129,
   "id": "secure-custom",
   "metadata": {},
   "outputs": [
    {
     "name": "stdout",
     "output_type": "stream",
     "text": [
      "A B D E C F G "
     ]
    }
   ],
   "source": [
    "root = Node('A')\n",
    "root.left = Node('B')\n",
    "root.right = Node('C')\n",
    "root.left.left = Node('D')\n",
    "root.left.right = Node('E')\n",
    "root.right.left = Node('F')\n",
    "root.right.right = Node('G')\n",
    "preorder(root)"
   ]
  },
  {
   "cell_type": "code",
   "execution_count": 17,
   "id": "realistic-there",
   "metadata": {},
   "outputs": [],
   "source": [
    "#       A\n",
    "#    B     C\n",
    "#  D  E  F  G"
   ]
  },
  {
   "cell_type": "markdown",
   "id": "united-bangladesh",
   "metadata": {},
   "source": [
    "## Postorder Traversal"
   ]
  },
  {
   "cell_type": "code",
   "execution_count": 125,
   "id": "prescribed-projection",
   "metadata": {},
   "outputs": [],
   "source": [
    "def postorderRecursive(root):\n",
    "    if root is None:\n",
    "        return\n",
    "    else:\n",
    "        postorderRecursive(root.left)\n",
    "        postorderRecursive(root.right)\n",
    "        print(root.data, end=' ')"
   ]
  },
  {
   "cell_type": "code",
   "execution_count": 126,
   "id": "native-nitrogen",
   "metadata": {},
   "outputs": [
    {
     "name": "stdout",
     "output_type": "stream",
     "text": [
      "D E B F G C A "
     ]
    }
   ],
   "source": [
    "postorderRecursive(root)"
   ]
  },
  {
   "cell_type": "markdown",
   "id": "talented-dressing",
   "metadata": {},
   "source": [
    "## Inorder Traversal"
   ]
  },
  {
   "cell_type": "code",
   "execution_count": 123,
   "id": "included-puzzle",
   "metadata": {},
   "outputs": [],
   "source": [
    "def inorderRecursive(root):\n",
    "    if root is None:\n",
    "        return\n",
    "    else:\n",
    "        inorderRecursive(root.left)\n",
    "        print(root.data, end=\" \")\n",
    "        inorderRecursive(root.right)"
   ]
  },
  {
   "cell_type": "code",
   "execution_count": 124,
   "id": "miniature-dominant",
   "metadata": {},
   "outputs": [
    {
     "name": "stdout",
     "output_type": "stream",
     "text": [
      "D B E A F C G "
     ]
    }
   ],
   "source": [
    "inorderRecursive(root)"
   ]
  },
  {
   "cell_type": "markdown",
   "id": "protective-continent",
   "metadata": {},
   "source": [
    "## Copy B.T"
   ]
  },
  {
   "cell_type": "code",
   "execution_count": 119,
   "id": "apart-discovery",
   "metadata": {},
   "outputs": [],
   "source": [
    "def copyRecursive(old_tree):\n",
    "    if old_tree == None:\n",
    "        return\n",
    "    else:\n",
    "        new_tree = Node(old_tree.data)\n",
    "        new_tree.left = copyRecursive(old_tree.left)\n",
    "        new_tree.right = copyRecursive(old_tree.right)\n",
    "        return new_tree"
   ]
  },
  {
   "cell_type": "code",
   "execution_count": 120,
   "id": "iraqi-termination",
   "metadata": {},
   "outputs": [],
   "source": [
    "new_tree = copyRecursive(root)"
   ]
  },
  {
   "cell_type": "code",
   "execution_count": 121,
   "id": "comprehensive-salem",
   "metadata": {
    "scrolled": false
   },
   "outputs": [
    {
     "name": "stdout",
     "output_type": "stream",
     "text": [
      "D B E A F C G "
     ]
    }
   ],
   "source": [
    "inorderRecursive(new_tree)"
   ]
  },
  {
   "cell_type": "code",
   "execution_count": 122,
   "id": "wooden-insurance",
   "metadata": {},
   "outputs": [
    {
     "name": "stdout",
     "output_type": "stream",
     "text": [
      "D E B F G C A "
     ]
    }
   ],
   "source": [
    "postorderRecursive(new_tree)"
   ]
  },
  {
   "cell_type": "markdown",
   "id": "residential-webcam",
   "metadata": {},
   "source": [
    "## Height B.T"
   ]
  },
  {
   "cell_type": "code",
   "execution_count": 117,
   "id": "extensive-beijing",
   "metadata": {},
   "outputs": [],
   "source": [
    "def heightRecursive(root):\n",
    "    if root == None:\n",
    "        return 0\n",
    "    else:\n",
    "        hL = heightRecursive(root.left)\n",
    "        hR = heightRecursive(root.right)\n",
    "        return max(hL, hR)+ 1"
   ]
  },
  {
   "cell_type": "code",
   "execution_count": 118,
   "id": "split-packet",
   "metadata": {},
   "outputs": [
    {
     "data": {
      "text/plain": [
       "3"
      ]
     },
     "execution_count": 118,
     "metadata": {},
     "output_type": "execute_result"
    }
   ],
   "source": [
    "heightRecursive(root)"
   ]
  },
  {
   "cell_type": "markdown",
   "id": "primary-flexibility",
   "metadata": {},
   "source": [
    "## Count B.T"
   ]
  },
  {
   "cell_type": "code",
   "execution_count": 115,
   "id": "permanent-metro",
   "metadata": {},
   "outputs": [],
   "source": [
    "def countRecursive(root):\n",
    "    if root == None:\n",
    "        return 0\n",
    "    else:\n",
    "        nL = countRecursive(root.left)\n",
    "        nR = countRecursive(root.right)\n",
    "        return nL + nR + 1"
   ]
  },
  {
   "cell_type": "code",
   "execution_count": 116,
   "id": "consolidated-gibraltar",
   "metadata": {},
   "outputs": [
    {
     "data": {
      "text/plain": [
       "7"
      ]
     },
     "execution_count": 116,
     "metadata": {},
     "output_type": "execute_result"
    }
   ],
   "source": [
    "countRecursive(root)"
   ]
  },
  {
   "cell_type": "markdown",
   "id": "proof-ceiling",
   "metadata": {},
   "source": [
    "## Equal B.T"
   ]
  },
  {
   "cell_type": "code",
   "execution_count": 107,
   "id": "southern-knight",
   "metadata": {},
   "outputs": [],
   "source": [
    "# (p is q) checks if p and q reference to the same object. In this case, \n",
    "# if both p and q reference to None, then it is the same object so will return True, else False.\n",
    "# It handles the part where p or q isn't exist so isn't handled by the first condition.\n",
    "\n",
    "def equalBT(tree, compTree):\n",
    "    if tree and compTree:\n",
    "        return tree.data == compTree.data and equalBT(tree.left, compTree.left) and equalBT(tree.right, compTree.right)\n",
    "    return tree is compTree"
   ]
  },
  {
   "cell_type": "code",
   "execution_count": 109,
   "id": "structured-modification",
   "metadata": {
    "scrolled": true
   },
   "outputs": [
    {
     "data": {
      "text/plain": [
       "True"
      ]
     },
     "execution_count": 109,
     "metadata": {},
     "output_type": "execute_result"
    }
   ],
   "source": [
    "equalBT(root, new_tree)"
   ]
  },
  {
   "cell_type": "markdown",
   "id": "manual-tsunami",
   "metadata": {},
   "source": [
    "## Leaf"
   ]
  },
  {
   "cell_type": "code",
   "execution_count": 113,
   "id": "limiting-replica",
   "metadata": {},
   "outputs": [],
   "source": [
    "def countLeaf(root):\n",
    "    if root == None:\n",
    "        return 0\n",
    "    else:\n",
    "        nL = countLeaf(root.left)\n",
    "        nR = countLeaf(root.right)\n",
    "        if (nL + nR) > 0:\n",
    "            return nL + nR\n",
    "        else:\n",
    "            return 1"
   ]
  },
  {
   "cell_type": "code",
   "execution_count": 114,
   "id": "distinct-management",
   "metadata": {},
   "outputs": [
    {
     "data": {
      "text/plain": [
       "4"
      ]
     },
     "execution_count": 114,
     "metadata": {},
     "output_type": "execute_result"
    }
   ],
   "source": [
    "countLeaf(root)"
   ]
  }
 ],
 "metadata": {
  "kernelspec": {
   "display_name": "Python 3",
   "language": "python",
   "name": "python3"
  },
  "language_info": {
   "codemirror_mode": {
    "name": "ipython",
    "version": 3
   },
   "file_extension": ".py",
   "mimetype": "text/x-python",
   "name": "python",
   "nbconvert_exporter": "python",
   "pygments_lexer": "ipython3",
   "version": "3.8.8"
  }
 },
 "nbformat": 4,
 "nbformat_minor": 5
}
