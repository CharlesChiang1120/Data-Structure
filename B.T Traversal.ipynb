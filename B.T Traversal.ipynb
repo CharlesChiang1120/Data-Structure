{
 "cells": [
  {
   "cell_type": "markdown",
   "id": "minute-miracle",
   "metadata": {},
   "source": [
    "## Binary Tree"
   ]
  },
  {
   "cell_type": "code",
   "execution_count": 6,
   "id": "amateur-characterization",
   "metadata": {},
   "outputs": [],
   "source": [
    "class Node:\n",
    "    def __init__(self, data):\n",
    "        self.data = data\n",
    "        self.left = None\n",
    "        self.right = None"
   ]
  },
  {
   "cell_type": "markdown",
   "id": "growing-drama",
   "metadata": {},
   "source": [
    "## Preorder Traversal"
   ]
  },
  {
   "cell_type": "code",
   "execution_count": 11,
   "id": "premium-slovak",
   "metadata": {},
   "outputs": [],
   "source": [
    "def PreorderRecursive(root):\n",
    "    if root is None:\n",
    "        return\n",
    "    \n",
    "    print(root.data, end=' ')\n",
    "    PreorderRecursive(root.left)\n",
    "    PreorderRecursive(root.right)"
   ]
  },
  {
   "cell_type": "code",
   "execution_count": 7,
   "id": "collected-colony",
   "metadata": {},
   "outputs": [],
   "source": [
    "def Preorder(root):\n",
    "    if root is None:\n",
    "        return\n",
    "    \n",
    "    nodeStack = []\n",
    "    nodeStack.append(root)\n",
    "    \n",
    "    while(len(nodeStack) > 0):\n",
    "        node = nodeStack.pop()\n",
    "        print (node.data, end=\" \")\n",
    "        if node.right is not None:\n",
    "            nodeStack.append(node.right)\n",
    "        if node.left is not None:\n",
    "            nodeStack.append(node.left)"
   ]
  },
  {
   "cell_type": "code",
   "execution_count": 19,
   "id": "excess-pride",
   "metadata": {},
   "outputs": [
    {
     "name": "stdout",
     "output_type": "stream",
     "text": [
      "A B D E C F G "
     ]
    }
   ],
   "source": [
    "root = Node('A')\n",
    "root.left = Node('B')\n",
    "root.right = Node('C')\n",
    "root.left.left = Node('D')\n",
    "root.left.right = Node('E')\n",
    "root.right.left = Node('F')\n",
    "root.right.right = Node('G')\n",
    "Preorder(root)"
   ]
  },
  {
   "cell_type": "markdown",
   "id": "continued-viewer",
   "metadata": {},
   "source": [
    "## Postorder Traversal"
   ]
  },
  {
   "cell_type": "code",
   "execution_count": 9,
   "id": "surprising-theme",
   "metadata": {},
   "outputs": [],
   "source": [
    "def postorder(root):\n",
    "    if root is None:\n",
    "        return\n",
    "\n",
    "    postorder(root.left)\n",
    "    postorder(root.right)\n",
    " \n",
    "    print(root.data, end=' ')"
   ]
  },
  {
   "cell_type": "code",
   "execution_count": 10,
   "id": "according-crisis",
   "metadata": {},
   "outputs": [
    {
     "name": "stdout",
     "output_type": "stream",
     "text": [
      "D E B F G C A "
     ]
    }
   ],
   "source": [
    "postorder(root)"
   ]
  },
  {
   "cell_type": "markdown",
   "id": "functioning-colorado",
   "metadata": {},
   "source": [
    "## Inorder Traversal"
   ]
  },
  {
   "cell_type": "code",
   "execution_count": 27,
   "id": "worthy-prairie",
   "metadata": {},
   "outputs": [],
   "source": [
    "def inorder(root):\n",
    "    if root is None:\n",
    "        return\n",
    "    inorder(root.left)\n",
    "    print(root.data, end=\" \")\n",
    "    inorder(root.right)"
   ]
  },
  {
   "cell_type": "code",
   "execution_count": 28,
   "id": "entertaining-stack",
   "metadata": {},
   "outputs": [
    {
     "name": "stdout",
     "output_type": "stream",
     "text": [
      "D B E A F C G "
     ]
    }
   ],
   "source": [
    "inorder(root)"
   ]
  }
 ],
 "metadata": {
  "kernelspec": {
   "display_name": "Python 3",
   "language": "python",
   "name": "python3"
  },
  "language_info": {
   "codemirror_mode": {
    "name": "ipython",
    "version": 3
   },
   "file_extension": ".py",
   "mimetype": "text/x-python",
   "name": "python",
   "nbconvert_exporter": "python",
   "pygments_lexer": "ipython3",
   "version": "3.8.8"
  }
 },
 "nbformat": 4,
 "nbformat_minor": 5
}
