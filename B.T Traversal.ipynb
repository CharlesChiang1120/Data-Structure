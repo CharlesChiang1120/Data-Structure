{
 "cells": [
  {
   "cell_type": "code",
   "execution_count": 1,
   "id": "conditional-input",
   "metadata": {},
   "outputs": [],
   "source": [
    "class Node:\n",
    "    def __init__(self, data):\n",
    "        self.data = data\n",
    "        self.left = None\n",
    "        self.right = None"
   ]
  },
  {
   "cell_type": "code",
   "execution_count": 2,
   "id": "higher-tunnel",
   "metadata": {},
   "outputs": [],
   "source": [
    "def Preorder(root):\n",
    "    if root is None:\n",
    "        return\n",
    "    \n",
    "    nodeStack = []\n",
    "    nodeStack.append(root)\n",
    "    \n",
    "    while(len(nodeStack) > 0):\n",
    "        node = nodeStack.pop()\n",
    "        print (node.data, end=\" \")\n",
    "        if node.right is not None:\n",
    "            nodeStack.append(node.right)\n",
    "        if node.left is not None:\n",
    "            nodeStack.append(node.left)"
   ]
  },
  {
   "cell_type": "code",
   "execution_count": 3,
   "id": "restricted-injury",
   "metadata": {},
   "outputs": [
    {
     "name": "stdout",
     "output_type": "stream",
     "text": [
      "A B D E C F G "
     ]
    }
   ],
   "source": [
    "root = Node('A')\n",
    "root.left = Node('B')\n",
    "root.right = Node('C')\n",
    "root.left.left = Node('D')\n",
    "root.left.right = Node('E')\n",
    "root.right.left = Node('F')\n",
    "root.right.right = Node('G')\n",
    "Preorder(root)"
   ]
  }
 ],
 "metadata": {
  "kernelspec": {
   "display_name": "Python 3",
   "language": "python",
   "name": "python3"
  },
  "language_info": {
   "codemirror_mode": {
    "name": "ipython",
    "version": 3
   },
   "file_extension": ".py",
   "mimetype": "text/x-python",
   "name": "python",
   "nbconvert_exporter": "python",
   "pygments_lexer": "ipython3",
   "version": "3.8.8"
  }
 },
 "nbformat": 4,
 "nbformat_minor": 5
}
