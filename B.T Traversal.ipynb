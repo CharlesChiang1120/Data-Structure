{
 "cells": [
  {
   "cell_type": "markdown",
   "id": "better-found",
   "metadata": {},
   "source": [
    "## Binary Tree"
   ]
  },
  {
   "cell_type": "code",
   "execution_count": 1,
   "id": "statewide-moderator",
   "metadata": {},
   "outputs": [],
   "source": [
    "class Node:\n",
    "    def __init__(self, data):\n",
    "        self.data = data\n",
    "        self.left = None\n",
    "        self.right = None"
   ]
  },
  {
   "cell_type": "markdown",
   "id": "tight-surrey",
   "metadata": {},
   "source": [
    "## Preorder Traversal"
   ]
  },
  {
   "cell_type": "code",
   "execution_count": 2,
   "id": "brilliant-buffalo",
   "metadata": {},
   "outputs": [],
   "source": [
    "def preorderRecursive(root):\n",
    "    if root is None:\n",
    "        return\n",
    "    \n",
    "    print(root.data, end=' ')\n",
    "    preorderRecursive(root.left)\n",
    "    preorderRecursive(root.right)"
   ]
  },
  {
   "cell_type": "code",
   "execution_count": 3,
   "id": "known-gentleman",
   "metadata": {},
   "outputs": [],
   "source": [
    "def preorder(root):\n",
    "    if root is None:\n",
    "        return\n",
    "    \n",
    "    nodeStack = []\n",
    "    nodeStack.append(root)\n",
    "    \n",
    "    while(len(nodeStack) > 0):\n",
    "        node = nodeStack.pop()\n",
    "        print (node.data, end=\" \")\n",
    "        if node.right is not None:\n",
    "            nodeStack.append(node.right)\n",
    "        if node.left is not None:\n",
    "            nodeStack.append(node.left)"
   ]
  },
  {
   "cell_type": "code",
   "execution_count": 4,
   "id": "applicable-triangle",
   "metadata": {},
   "outputs": [
    {
     "name": "stdout",
     "output_type": "stream",
     "text": [
      "A B D E C F G "
     ]
    }
   ],
   "source": [
    "root = Node('A')\n",
    "root.left = Node('B')\n",
    "root.right = Node('C')\n",
    "root.left.left = Node('D')\n",
    "root.left.right = Node('E')\n",
    "root.right.left = Node('F')\n",
    "root.right.right = Node('G')\n",
    "preorder(root)"
   ]
  },
  {
   "cell_type": "markdown",
   "id": "ruled-yahoo",
   "metadata": {},
   "source": [
    "## Postorder Traversal"
   ]
  },
  {
   "cell_type": "code",
   "execution_count": 5,
   "id": "freelance-slovenia",
   "metadata": {},
   "outputs": [],
   "source": [
    "def postorderRecursive(root):\n",
    "    if root is None:\n",
    "        return\n",
    "\n",
    "    postorderRecursive(root.left)\n",
    "    postorderRecursive(root.right)\n",
    " \n",
    "    print(root.data, end=' ')"
   ]
  },
  {
   "cell_type": "code",
   "execution_count": 6,
   "id": "valid-hacker",
   "metadata": {},
   "outputs": [
    {
     "name": "stdout",
     "output_type": "stream",
     "text": [
      "D E B F G C A "
     ]
    }
   ],
   "source": [
    "postorderRecursive(root)"
   ]
  },
  {
   "cell_type": "markdown",
   "id": "polished-dress",
   "metadata": {},
   "source": [
    "## Inorder Traversal"
   ]
  },
  {
   "cell_type": "code",
   "execution_count": 7,
   "id": "immediate-buyer",
   "metadata": {},
   "outputs": [],
   "source": [
    "def inorderRecursive(root):\n",
    "    if root is None:\n",
    "        return\n",
    "    inorderRecursive(root.left)\n",
    "    print(root.data, end=\" \")\n",
    "    inorderRecursive(root.right)"
   ]
  },
  {
   "cell_type": "code",
   "execution_count": 8,
   "id": "studied-dakota",
   "metadata": {},
   "outputs": [
    {
     "name": "stdout",
     "output_type": "stream",
     "text": [
      "D B E A F C G "
     ]
    }
   ],
   "source": [
    "inorderRecursive(root)"
   ]
  }
 ],
 "metadata": {
  "kernelspec": {
   "display_name": "Python 3",
   "language": "python",
   "name": "python3"
  },
  "language_info": {
   "codemirror_mode": {
    "name": "ipython",
    "version": 3
   },
   "file_extension": ".py",
   "mimetype": "text/x-python",
   "name": "python",
   "nbconvert_exporter": "python",
   "pygments_lexer": "ipython3",
   "version": "3.8.8"
  }
 },
 "nbformat": 4,
 "nbformat_minor": 5
}
